{
 "cells": [
  {
   "cell_type": "code",
   "execution_count": 34,
   "metadata": {},
   "outputs": [],
   "source": [
    "import numpy as np\n",
    "import pandas as pd\n",
    "import matplotlib.pyplot as plt\n",
    "from prettytable import PrettyTable\n",
    "from scipy.stats import spearmanr\n",
    "from scipy import stats\n"
   ]
  },
  {
   "cell_type": "code",
   "execution_count": 35,
   "metadata": {},
   "outputs": [],
   "source": [
    "data = pd.read_excel(\"E:\\Goal 3\\Analysis\\KAP Survey Tool\\KAP Survey Tool.xlsx\")"
   ]
  },
  {
   "cell_type": "markdown",
   "metadata": {},
   "source": [
    "#### Data Cleaning"
   ]
  },
  {
   "cell_type": "code",
   "execution_count": 36,
   "metadata": {},
   "outputs": [
    {
     "name": "stderr",
     "output_type": "stream",
     "text": [
      "C:\\Users\\ishim\\AppData\\Local\\Temp\\ipykernel_27824\\3959201680.py:15: FutureWarning: A value is trying to be set on a copy of a DataFrame or Series through chained assignment using an inplace method.\n",
      "The behavior will change in pandas 3.0. This inplace method will never work because the intermediate object on which we are setting values always behaves as a copy.\n",
      "\n",
      "For example, when doing 'df[col].method(value, inplace=True)', try using 'df.method({col: value}, inplace=True)' or df[col] = df[col].method(value) instead, to perform the operation inplace on the original object.\n",
      "\n",
      "\n",
      "  data['cadre'].replace({1: 'Nurse',\n"
     ]
    }
   ],
   "source": [
    "hospital_levels = {\n",
    "    \"CHUK\": \"Referral/Teaching Hospital\",\n",
    "    \"Masaka DH\": \"District Hospital\",\n",
    "    \"Nyamata DH\": \"Level 2 Teaching Hospital\",\n",
    "    \"Kirehe DH\": \"District Hospital\",\n",
    "    \"Butaro DH\": \"Level 2 Teaching Hospital\",\n",
    "    \"Nemba DH\": \"District Hospital\",\n",
    "    \"CHUB\": \"Referral/Teaching Hospital\",\n",
    "    \"Kabutare DH\": \"District Hospital\",\n",
    "    \"Kibogora DH\": \"Level 2 Teaching Hospital\",\n",
    "    \"Gisenyi DH\": \"District Hospital\"\n",
    "}\n",
    "data['hospital_level'] = data['Hospital name'].map(hospital_levels)\n",
    "# Replace values in the entire DataFrame\n",
    "data['cadre'].replace({1: 'Nurse', \n",
    "            2: 'Nurse-midwife', \n",
    "            3: 'Nurse in charge', 4: 'Resident doctor', 5: 'MD'}, inplace=True)"
   ]
  },
  {
   "cell_type": "markdown",
   "metadata": {},
   "source": [
    "### Used Functions"
   ]
  },
  {
   "cell_type": "code",
   "execution_count": 37,
   "metadata": {},
   "outputs": [],
   "source": [
    "def print_and_export_frequency_table(df, column_name, output_filename=\"frequency_table.xlsx\"):\n",
    "    \"\"\"\n",
    "    Prints a frequency table for a given column in a dataframe using PrettyTable and exports it to an Excel file.\n",
    "    \"\"\"\n",
    "    # Get value counts and percentages\n",
    "    value_counts = df[column_name].value_counts()\n",
    "    percentages = (value_counts / len(df)) * 100\n",
    "    \n",
    "    # Create PrettyTable\n",
    "    table = PrettyTable()\n",
    "    table.field_names = [column_name, \"Count\", \"Percentage\"]\n",
    "    \n",
    "    # Prepare data for export\n",
    "    export_data = []\n",
    "    for category, count in value_counts.items():\n",
    "        percentage = f\"{percentages[category]:.2f}%\"\n",
    "        table.add_row([category, count, percentage])\n",
    "        export_data.append([category, count, percentages[category]])\n",
    "    \n",
    "    print(table)\n",
    "    \n",
    "    # Convert to DataFrame and export to Excel\n",
    "    export_df = pd.DataFrame(export_data, columns=[column_name, \"Count\", \"Percentage\"])\n",
    "    export_df.to_excel(output_filename, index=False)\n",
    "    print(f\"Frequency table exported to {output_filename}\")\n",
    "    \n",
    "def compare_groups(df, group_col, score_col):\n",
    "    \"\"\"\n",
    "    Perform One-way ANOVA and Kruskal-Wallis test on a given score column across different groups.\n",
    "\n",
    "    Parameters:\n",
    "    - df: pandas DataFrame\n",
    "    - group_col: str, column name representing the categorical grouping variable\n",
    "    - score_col: str, column name representing the continuous score variable\n",
    "\n",
    "    Returns:\n",
    "    - None (prints test results)\n",
    "    \"\"\"\n",
    "    print(f\"\\n=== Analysis of {score_col} by {group_col} ===\")\n",
    "    \n",
    "    # Drop missing values\n",
    "    df = df.dropna(subset=[group_col, score_col])\n",
    "    \n",
    "    # Extract unique groups\n",
    "    groups = df[group_col].unique()\n",
    "    \n",
    "    # Step 1: Check normality for each group using Shapiro-Wilk test\n",
    "    normality_results = {}\n",
    "    grouped_data = []\n",
    "    \n",
    "    for group in groups:\n",
    "        group_data = df[df[group_col] == group][score_col]\n",
    "        grouped_data.append(group_data)\n",
    "        \n",
    "        if len(group_data) > 3:  # Shapiro-Wilk requires at least 3 values\n",
    "            stat, p_value = stats.shapiro(group_data)\n",
    "            normality_results[group] = p_value\n",
    "        else:\n",
    "            normality_results[group] = None  # Not enough data\n",
    "    \n",
    "    print(\"\\nNormality Test (Shapiro-Wilk) Results per Group:\")\n",
    "    for group, p in normality_results.items():\n",
    "        if p is not None:\n",
    "            print(f\"Group {group}: p-value = {p:.4f} {'(Normal)' if p > 0.05 else '(Not Normal)'}\")\n",
    "        else:\n",
    "            print(f\"Group {group}: Not enough data for test\")\n",
    "\n",
    "    # Step 2: Check homogeneity of variances using Levene’s test\n",
    "    levene_stat, levene_p = stats.levene(*grouped_data, center='median')\n",
    "\n",
    "    print(f\"\\nLevene’s Test for Homogeneity of Variances: p-value = {levene_p:.4f}\")\n",
    "    if levene_p > 0.05:\n",
    "        print(\"Variances are equal (assumption met).\")\n",
    "    else:\n",
    "        print(\"Variances are not equal (consider a non-parametric alternative like Kruskal-Wallis).\")\n",
    "\n",
    "    # Step 3: Perform One-way ANOVA\n",
    "    anova_stat, anova_p = stats.f_oneway(*grouped_data)\n",
    "\n",
    "    print(f\"\\nOne-way ANOVA Results: p-value = {anova_p:.4f}\")\n",
    "    if anova_p < 0.05:\n",
    "        print(\"Conclusion: Reject H0. At least one group has a different mean score.\")\n",
    "    else:\n",
    "        print(\"Conclusion: Fail to reject H0. No significant difference among groups.\")\n",
    "\n",
    "    # Step 4: Perform Kruskal-Wallis test (if assumptions are violated)\n",
    "    kruskal_stat, kruskal_p = stats.kruskal(*grouped_data)\n",
    "\n",
    "    print(f\"\\nKruskal-Wallis Test Results: p-value = {kruskal_p:.4f}\")\n",
    "    if kruskal_p < 0.05:\n",
    "        print(\"Conclusion: Reject H0. At least one group has a different median score.\")\n",
    "    else:\n",
    "        print(\"Conclusion: Fail to reject H0. No significant difference in median scores among groups.\")\n",
    "        \n",
    "def spearman_correlation(df, experience_col, score_col):\n",
    "    \"\"\"\n",
    "    Perform Spearman Correlation test between years of experience and a given score column.\n",
    "\n",
    "    Parameters:\n",
    "    - df: pandas DataFrame\n",
    "    - experience_col: str, column name representing years of experience\n",
    "    - score_col: str, column name representing the continuous score variable\n",
    "\n",
    "    Returns:\n",
    "    - None (prints correlation results)\n",
    "    \"\"\"\n",
    "    # Drop missing values\n",
    "    df = df.dropna(subset=[experience_col, score_col])\n",
    "\n",
    "    # Perform Spearman correlation\n",
    "    spearman_corr, spearman_p = spearmanr(df[experience_col], df[score_col])\n",
    "\n",
    "    # Output results\n",
    "    print(f\"\\nSpearman Correlation Test: {experience_col} vs {score_col}\")\n",
    "    print(f\"Spearman Correlation Coefficient: {spearman_corr:.4f}\")\n",
    "    print(f\"p-value: {spearman_p:.4f}\")\n",
    "\n",
    "    # Interpretation\n",
    "    if spearman_p < 0.05:\n",
    "        print(\"Conclusion: Significant correlation.\")\n",
    "    else:\n",
    "        print(\"Conclusion: No significant correlation.\")\n",
    "\n"
   ]
  },
  {
   "cell_type": "markdown",
   "metadata": {},
   "source": [
    "### 1. Knowledge"
   ]
  },
  {
   "cell_type": "code",
   "execution_count": 38,
   "metadata": {},
   "outputs": [
    {
     "data": {
      "text/plain": [
       "Index(['Unnamed: 0', 'record_id', 'form_1_timestamp', 'cadre',\n",
       "       'years_of_service_in_this_r', 'hospital_level', 'Hospital name',\n",
       "       'airway_management', 'breathing_and_ventilation',\n",
       "       'circulation_and_shock', 'circulation_and_shock_2',\n",
       "       'cardiopulmonary_resuscitation', 'sepsis_recognition',\n",
       "       'sepsis_recognition_2', 'hypoglycemia_management', 'seizure_management',\n",
       "       'fluid_resuscitation', 'thermoregulation', 'medication_dosing',\n",
       "       'confidence_in_skills', 'team_collaboration', 'training_adequacy',\n",
       "       'importance_of_protocols', 'resource_availability',\n",
       "       'continuing_education', 'stress_management',\n",
       "       'importance_of_early_recognition', 'a_multidisciplinary_approa',\n",
       "       'family_involvement', 'airway_assessment', 'use_of_bag_valve_mask',\n",
       "       'shock_management', 'cpr_performance', 'sepsis_protocols',\n",
       "       'hypoglycemia_treatment', 'seizure_response',\n",
       "       'fluid_resuscitation_practices', 'how_often_do_you_follow_be',\n",
       "       'medication_dosage_calculation', 'airway_management_score',\n",
       "       'ventilation_score', 'circulation_an_shock_score',\n",
       "       'circulation_an_shock_score_2', 'cardiopulmonary_score',\n",
       "       'sepsis_recognitio_score', 'sepsis_recognitio_score_2',\n",
       "       'hypoglycemia_score', 'seizur_management_score',\n",
       "       'fluid_resuscitatin_score', 'thermoregulatin_score',\n",
       "       'medication_dosin_score'],\n",
       "      dtype='object')"
      ]
     },
     "execution_count": 38,
     "metadata": {},
     "output_type": "execute_result"
    }
   ],
   "source": [
    "data.columns"
   ]
  },
  {
   "cell_type": "code",
   "execution_count": 39,
   "metadata": {},
   "outputs": [],
   "source": [
    "data_know = data[['hospital_level','Hospital name','airway_management_score',\n",
    "       'ventilation_score', 'circulation_an_shock_score', 'circulation_an_shock_score_2', 'cardiopulmonary_score',\n",
    "       'sepsis_recognitio_score', 'sepsis_recognitio_score_2', 'hypoglycemia_score', 'seizur_management_score',\n",
    "       'fluid_resuscitatin_score', 'thermoregulatin_score','medication_dosin_score']]"
   ]
  },
  {
   "cell_type": "code",
   "execution_count": 40,
   "metadata": {},
   "outputs": [
    {
     "name": "stderr",
     "output_type": "stream",
     "text": [
      "C:\\Users\\ishim\\AppData\\Local\\Temp\\ipykernel_27824\\4166274125.py:2: SettingWithCopyWarning: \n",
      "A value is trying to be set on a copy of a slice from a DataFrame\n",
      "\n",
      "See the caveats in the documentation: https://pandas.pydata.org/pandas-docs/stable/user_guide/indexing.html#returning-a-view-versus-a-copy\n",
      "  data_know.replace({0: 'Incorrect response',\n"
     ]
    }
   ],
   "source": [
    "# Replace values in the entire DataFrame\n",
    "data_know.replace({0: 'Incorrect response', \n",
    "            1: 'Partially correct response', \n",
    "            2: 'Completely correct'}, inplace=True)"
   ]
  },
  {
   "cell_type": "code",
   "execution_count": 41,
   "metadata": {},
   "outputs": [],
   "source": [
    "# data_know"
   ]
  },
  {
   "cell_type": "code",
   "execution_count": 42,
   "metadata": {},
   "outputs": [
    {
     "name": "stdout",
     "output_type": "stream",
     "text": [
      "+----------------------------+-------+------------+\n",
      "|   medication_dosin_score   | Count | Percentage |\n",
      "+----------------------------+-------+------------+\n",
      "| Partially correct response |   68  |   53.97%   |\n",
      "|     Incorrect response     |   47  |   37.30%   |\n",
      "|     Completely correct     |   11  |   8.73%    |\n",
      "+----------------------------+-------+------------+\n",
      "Frequency table exported to frequency_table.xlsx\n"
     ]
    },
    {
     "name": "stderr",
     "output_type": "stream",
     "text": [
      "C:\\Users\\ishim\\AppData\\Local\\Temp\\ipykernel_27824\\2798460452.py:24: UserWarning: Pandas requires version '3.0.5' or newer of 'xlsxwriter' (version '3.0.3' currently installed).\n",
      "  export_df.to_excel(output_filename, index=False)\n"
     ]
    }
   ],
   "source": [
    "print_and_export_frequency_table(data_know, \"medication_dosin_score\", \"frequency_table.xlsx\")"
   ]
  },
  {
   "cell_type": "markdown",
   "metadata": {},
   "source": [
    "### 3. Attitudes"
   ]
  },
  {
   "cell_type": "code",
   "execution_count": 43,
   "metadata": {},
   "outputs": [],
   "source": [
    "# data.columns"
   ]
  },
  {
   "cell_type": "code",
   "execution_count": 44,
   "metadata": {},
   "outputs": [],
   "source": [
    "data_att = data[['hospital_level','Hospital name','confidence_in_skills', 'team_collaboration', 'training_adequacy',\n",
    "       'importance_of_protocols', 'resource_availability',\n",
    "       'continuing_education', 'stress_management',\n",
    "       'importance_of_early_recognition', 'a_multidisciplinary_approa',\n",
    "       'family_involvement',]]"
   ]
  },
  {
   "cell_type": "code",
   "execution_count": 45,
   "metadata": {},
   "outputs": [
    {
     "name": "stderr",
     "output_type": "stream",
     "text": [
      "C:\\Users\\ishim\\AppData\\Local\\Temp\\ipykernel_27824\\3806833358.py:2: SettingWithCopyWarning: \n",
      "A value is trying to be set on a copy of a slice from a DataFrame\n",
      "\n",
      "See the caveats in the documentation: https://pandas.pydata.org/pandas-docs/stable/user_guide/indexing.html#returning-a-view-versus-a-copy\n",
      "  data_att.replace({1: 'Strongly Disagree',\n"
     ]
    }
   ],
   "source": [
    "# Replace values in the entire DataFrame\n",
    "data_att.replace({1: 'Strongly Disagree', \n",
    "            2: 'Disagree', \n",
    "            3: 'Neutral', 4: 'Agree', 5: 'Strongly Agree'}, inplace=True)"
   ]
  },
  {
   "cell_type": "code",
   "execution_count": 46,
   "metadata": {},
   "outputs": [],
   "source": [
    "# print_and_export_frequency_table(data_att, \"family_involvement\", \"frequency_table.xlsx\")"
   ]
  },
  {
   "cell_type": "markdown",
   "metadata": {},
   "source": [
    "### 3. Practices"
   ]
  },
  {
   "cell_type": "code",
   "execution_count": 47,
   "metadata": {},
   "outputs": [],
   "source": [
    "data_prac = data[['hospital_level','Hospital name','airway_assessment', 'use_of_bag_valve_mask',\n",
    "       'shock_management', 'cpr_performance', 'sepsis_protocols', 'hypoglycemia_treatment', 'seizure_response',\n",
    "       'fluid_resuscitation_practices', 'how_often_do_you_follow_be', 'medication_dosage_calculation']]"
   ]
  },
  {
   "cell_type": "code",
   "execution_count": 48,
   "metadata": {},
   "outputs": [
    {
     "name": "stderr",
     "output_type": "stream",
     "text": [
      "C:\\Users\\ishim\\AppData\\Local\\Temp\\ipykernel_27824\\237127318.py:1: SettingWithCopyWarning: \n",
      "A value is trying to be set on a copy of a slice from a DataFrame\n",
      "\n",
      "See the caveats in the documentation: https://pandas.pydata.org/pandas-docs/stable/user_guide/indexing.html#returning-a-view-versus-a-copy\n",
      "  data_prac.replace({1: 'Always',\n"
     ]
    }
   ],
   "source": [
    "data_prac.replace({1: 'Always', \n",
    "            2: 'Often', \n",
    "            3: 'Sometimes', 4: 'Rarely', 5: 'Never'}, inplace=True)\n"
   ]
  },
  {
   "cell_type": "code",
   "execution_count": 49,
   "metadata": {},
   "outputs": [
    {
     "name": "stdout",
     "output_type": "stream",
     "text": [
      "+-----------------------+-------+------------+\n",
      "| use_of_bag_valve_mask | Count | Percentage |\n",
      "+-----------------------+-------+------------+\n",
      "|       Sometimes       |   54  |   42.86%   |\n",
      "|         Often         |   31  |   24.60%   |\n",
      "|         Always        |   27  |   21.43%   |\n",
      "|         Rarely        |   12  |   9.52%    |\n",
      "|         Never         |   2   |   1.59%    |\n",
      "+-----------------------+-------+------------+\n",
      "Frequency table exported to frequency_table.xlsx\n"
     ]
    },
    {
     "name": "stderr",
     "output_type": "stream",
     "text": [
      "C:\\Users\\ishim\\AppData\\Local\\Temp\\ipykernel_27824\\2798460452.py:24: UserWarning: Pandas requires version '3.0.5' or newer of 'xlsxwriter' (version '3.0.3' currently installed).\n",
      "  export_df.to_excel(output_filename, index=False)\n"
     ]
    }
   ],
   "source": [
    "data_prac\n",
    "print_and_export_frequency_table(data_prac, \"use_of_bag_valve_mask\", \"frequency_table.xlsx\")"
   ]
  },
  {
   "cell_type": "markdown",
   "metadata": {},
   "source": [
    "#### Association of KAP Outcome Vs Cadre"
   ]
  },
  {
   "cell_type": "code",
   "execution_count": 50,
   "metadata": {},
   "outputs": [],
   "source": [
    "def add_summation_column(df, column_list, new_column_name):\n",
    "    \"\"\"\n",
    "    Adds a new column to the DataFrame that contains the sum of specified columns.\n",
    "\n",
    "    Parameters:\n",
    "    df (pd.DataFrame): The input DataFrame.\n",
    "    column_list (list): List of column names to sum.\n",
    "    new_column_name (str): The name of the new column that will store the summation.\n",
    "\n",
    "    Returns:\n",
    "    pd.DataFrame: Updated DataFrame with the new summation column.\n",
    "    \"\"\"\n",
    "    if not all(col in df.columns for col in column_list):\n",
    "        raise ValueError(\"One or more columns in column_list do not exist in the DataFrame.\")\n",
    "\n",
    "    df[new_column_name] = df[column_list].sum(axis=1)\n",
    "    return df"
   ]
  },
  {
   "cell_type": "code",
   "execution_count": 51,
   "metadata": {},
   "outputs": [],
   "source": [
    "data = add_summation_column(data, ['airway_management_score', 'ventilation_score', 'circulation_an_shock_score', 'circulation_an_shock_score_2', 'cardiopulmonary_score','sepsis_recognitio_score', 'sepsis_recognitio_score_2', 'hypoglycemia_score', 'seizur_management_score',\n",
    "       'fluid_resuscitatin_score', 'thermoregulatin_score','medication_dosin_score'], \"Total Knowledge score\")"
   ]
  },
  {
   "cell_type": "code",
   "execution_count": 52,
   "metadata": {},
   "outputs": [],
   "source": [
    "data = add_summation_column(data, ['confidence_in_skills', 'team_collaboration', 'training_adequacy','importance_of_protocols', 'resource_availability','continuing_education', 'stress_management',\n",
    "       'importance_of_early_recognition', 'a_multidisciplinary_approa','family_involvement',], \"Total Attitude score\")"
   ]
  },
  {
   "cell_type": "code",
   "execution_count": 53,
   "metadata": {},
   "outputs": [
    {
     "name": "stderr",
     "output_type": "stream",
     "text": [
      "C:\\Users\\ishim\\AppData\\Local\\Temp\\ipykernel_27824\\1787448539.py:1: FutureWarning: Downcasting behavior in `replace` is deprecated and will be removed in a future version. To retain the old behavior, explicitly call `result.infer_objects(copy=False)`. To opt-in to the future behavior, set `pd.set_option('future.no_silent_downcasting', True)`\n",
      "  data_prac.replace({'Always': 5,\n",
      "C:\\Users\\ishim\\AppData\\Local\\Temp\\ipykernel_27824\\1787448539.py:1: SettingWithCopyWarning: \n",
      "A value is trying to be set on a copy of a slice from a DataFrame\n",
      "\n",
      "See the caveats in the documentation: https://pandas.pydata.org/pandas-docs/stable/user_guide/indexing.html#returning-a-view-versus-a-copy\n",
      "  data_prac.replace({'Always': 5,\n",
      "C:\\Users\\ishim\\AppData\\Local\\Temp\\ipykernel_27824\\1485862288.py:16: SettingWithCopyWarning: \n",
      "A value is trying to be set on a copy of a slice from a DataFrame.\n",
      "Try using .loc[row_indexer,col_indexer] = value instead\n",
      "\n",
      "See the caveats in the documentation: https://pandas.pydata.org/pandas-docs/stable/user_guide/indexing.html#returning-a-view-versus-a-copy\n",
      "  df[new_column_name] = df[column_list].sum(axis=1)\n"
     ]
    }
   ],
   "source": [
    "data_prac.replace({'Always': 5, \n",
    "            'Often': 4, \n",
    "            'Sometimes': 3 , 'Rarely': 2, 'Never': 1}, inplace=True)\n",
    "data_prac = add_summation_column(data_prac, ['airway_assessment', 'use_of_bag_valve_mask', 'shock_management', 'cpr_performance', 'sepsis_protocols', 'hypoglycemia_treatment', 'seizure_response',\n",
    "       'fluid_resuscitation_practices', 'how_often_do_you_follow_be', 'medication_dosage_calculation'], \"Total Practice score\")\n",
    "data[\"Total Practice score\"] = data_prac[\"Total Practice score\"]"
   ]
  },
  {
   "cell_type": "code",
   "execution_count": 54,
   "metadata": {},
   "outputs": [
    {
     "data": {
      "text/html": [
       "<div>\n",
       "<style scoped>\n",
       "    .dataframe tbody tr th:only-of-type {\n",
       "        vertical-align: middle;\n",
       "    }\n",
       "\n",
       "    .dataframe tbody tr th {\n",
       "        vertical-align: top;\n",
       "    }\n",
       "\n",
       "    .dataframe thead th {\n",
       "        text-align: right;\n",
       "    }\n",
       "</style>\n",
       "<table border=\"1\" class=\"dataframe\">\n",
       "  <thead>\n",
       "    <tr style=\"text-align: right;\">\n",
       "      <th></th>\n",
       "      <th>Unnamed: 0</th>\n",
       "      <th>record_id</th>\n",
       "      <th>form_1_timestamp</th>\n",
       "      <th>cadre</th>\n",
       "      <th>years_of_service_in_this_r</th>\n",
       "      <th>hospital_level</th>\n",
       "      <th>Hospital name</th>\n",
       "      <th>airway_management</th>\n",
       "      <th>breathing_and_ventilation</th>\n",
       "      <th>circulation_and_shock</th>\n",
       "      <th>...</th>\n",
       "      <th>sepsis_recognitio_score</th>\n",
       "      <th>sepsis_recognitio_score_2</th>\n",
       "      <th>hypoglycemia_score</th>\n",
       "      <th>seizur_management_score</th>\n",
       "      <th>fluid_resuscitatin_score</th>\n",
       "      <th>thermoregulatin_score</th>\n",
       "      <th>medication_dosin_score</th>\n",
       "      <th>Total Knowledge score</th>\n",
       "      <th>Total Attitude score</th>\n",
       "      <th>Total Practice score</th>\n",
       "    </tr>\n",
       "  </thead>\n",
       "  <tbody>\n",
       "    <tr>\n",
       "      <th>0</th>\n",
       "      <td>0</td>\n",
       "      <td>1</td>\n",
       "      <td>2024-11-25 13:37:59</td>\n",
       "      <td>MD</td>\n",
       "      <td>0.0</td>\n",
       "      <td>District Hospital</td>\n",
       "      <td>Masaka DH</td>\n",
       "      <td>Make sure the airway is patent</td>\n",
       "      <td>Head tilt /chin lift</td>\n",
       "      <td>Cool and clammy skin, bluish is discoloration ...</td>\n",
       "      <td>...</td>\n",
       "      <td>2</td>\n",
       "      <td>2</td>\n",
       "      <td>0</td>\n",
       "      <td>0</td>\n",
       "      <td>1</td>\n",
       "      <td>2</td>\n",
       "      <td>0</td>\n",
       "      <td>13.5</td>\n",
       "      <td>49</td>\n",
       "      <td>40</td>\n",
       "    </tr>\n",
       "    <tr>\n",
       "      <th>1</th>\n",
       "      <td>1</td>\n",
       "      <td>2</td>\n",
       "      <td>2024-11-25 14:51:58</td>\n",
       "      <td>Nurse</td>\n",
       "      <td>6.0</td>\n",
       "      <td>District Hospital</td>\n",
       "      <td>Masaka DH</td>\n",
       "      <td>We keep air way clean by putting baby in neutr...</td>\n",
       "      <td>Neutral position,  Taking a valve mask like mo...</td>\n",
       "      <td>General cyanosis, severe respiratory distress</td>\n",
       "      <td>...</td>\n",
       "      <td>1</td>\n",
       "      <td>1</td>\n",
       "      <td>2</td>\n",
       "      <td>0</td>\n",
       "      <td>0</td>\n",
       "      <td>2</td>\n",
       "      <td>0</td>\n",
       "      <td>10.0</td>\n",
       "      <td>50</td>\n",
       "      <td>50</td>\n",
       "    </tr>\n",
       "    <tr>\n",
       "      <th>2</th>\n",
       "      <td>2</td>\n",
       "      <td>3</td>\n",
       "      <td>2024-11-25 15:20:17</td>\n",
       "      <td>Nurse</td>\n",
       "      <td>20.0</td>\n",
       "      <td>Level 2 Teaching Hospital</td>\n",
       "      <td>Nyamata DH</td>\n",
       "      <td>degager les voies respiratoires   mettre l'enf...</td>\n",
       "      <td>asepsie</td>\n",
       "      <td>convulsions; Difficulté respiratoire  léthargi...</td>\n",
       "      <td>...</td>\n",
       "      <td>1</td>\n",
       "      <td>0</td>\n",
       "      <td>1</td>\n",
       "      <td>1</td>\n",
       "      <td>0</td>\n",
       "      <td>0</td>\n",
       "      <td>0</td>\n",
       "      <td>6.0</td>\n",
       "      <td>34</td>\n",
       "      <td>46</td>\n",
       "    </tr>\n",
       "    <tr>\n",
       "      <th>3</th>\n",
       "      <td>3</td>\n",
       "      <td>4</td>\n",
       "      <td>2024-11-25 15:28:56</td>\n",
       "      <td>Nurse</td>\n",
       "      <td>15.0</td>\n",
       "      <td>Level 2 Teaching Hospital</td>\n",
       "      <td>Nyamata DH</td>\n",
       "      <td>you can assess if the baby has obstruction in ...</td>\n",
       "      <td>keep the baby in good position (en hyperextens...</td>\n",
       "      <td>dehydration, extremitie froid, tachypnea, hypo...</td>\n",
       "      <td>...</td>\n",
       "      <td>1</td>\n",
       "      <td>0</td>\n",
       "      <td>1</td>\n",
       "      <td>0</td>\n",
       "      <td>0</td>\n",
       "      <td>0</td>\n",
       "      <td>0</td>\n",
       "      <td>8.0</td>\n",
       "      <td>43</td>\n",
       "      <td>47</td>\n",
       "    </tr>\n",
       "    <tr>\n",
       "      <th>4</th>\n",
       "      <td>4</td>\n",
       "      <td>5</td>\n",
       "      <td>2024-11-25 15:11:35</td>\n",
       "      <td>Nurse</td>\n",
       "      <td>16.0</td>\n",
       "      <td>Level 2 Teaching Hospital</td>\n",
       "      <td>Nyamata DH</td>\n",
       "      <td>taking vital signs</td>\n",
       "      <td>mouth open, baby in neutral position , mask co...</td>\n",
       "      <td>cold skin,  respiratory destress, bradycardia</td>\n",
       "      <td>...</td>\n",
       "      <td>1</td>\n",
       "      <td>1</td>\n",
       "      <td>1</td>\n",
       "      <td>1</td>\n",
       "      <td>0</td>\n",
       "      <td>1</td>\n",
       "      <td>0</td>\n",
       "      <td>8.0</td>\n",
       "      <td>47</td>\n",
       "      <td>46</td>\n",
       "    </tr>\n",
       "    <tr>\n",
       "      <th>...</th>\n",
       "      <td>...</td>\n",
       "      <td>...</td>\n",
       "      <td>...</td>\n",
       "      <td>...</td>\n",
       "      <td>...</td>\n",
       "      <td>...</td>\n",
       "      <td>...</td>\n",
       "      <td>...</td>\n",
       "      <td>...</td>\n",
       "      <td>...</td>\n",
       "      <td>...</td>\n",
       "      <td>...</td>\n",
       "      <td>...</td>\n",
       "      <td>...</td>\n",
       "      <td>...</td>\n",
       "      <td>...</td>\n",
       "      <td>...</td>\n",
       "      <td>...</td>\n",
       "      <td>...</td>\n",
       "      <td>...</td>\n",
       "      <td>...</td>\n",
       "    </tr>\n",
       "    <tr>\n",
       "      <th>121</th>\n",
       "      <td>340</td>\n",
       "      <td>341</td>\n",
       "      <td>2024-12-13 13:40:30</td>\n",
       "      <td>Nurse</td>\n",
       "      <td>16.0</td>\n",
       "      <td>Referral/Teaching Hospital</td>\n",
       "      <td>CHUK</td>\n",
       "      <td>If airways are not  obstructed</td>\n",
       "      <td>Cover nose and mouth</td>\n",
       "      <td>palor,dehydration   Action:You give transfusio...</td>\n",
       "      <td>...</td>\n",
       "      <td>1</td>\n",
       "      <td>2</td>\n",
       "      <td>2</td>\n",
       "      <td>0</td>\n",
       "      <td>0</td>\n",
       "      <td>2</td>\n",
       "      <td>1</td>\n",
       "      <td>13.0</td>\n",
       "      <td>45</td>\n",
       "      <td>28</td>\n",
       "    </tr>\n",
       "    <tr>\n",
       "      <th>122</th>\n",
       "      <td>345</td>\n",
       "      <td>346</td>\n",
       "      <td>2024-12-16 14:02:50</td>\n",
       "      <td>Nurse</td>\n",
       "      <td>14.0</td>\n",
       "      <td>Referral/Teaching Hospital</td>\n",
       "      <td>CHUK</td>\n",
       "      <td>Positioning patient   Clearing airway</td>\n",
       "      <td>Performing bag valve mask  Positioning a patie...</td>\n",
       "      <td>Poor perfusion (cold extremities,mottled,skin ...</td>\n",
       "      <td>...</td>\n",
       "      <td>2</td>\n",
       "      <td>2</td>\n",
       "      <td>2</td>\n",
       "      <td>2</td>\n",
       "      <td>2</td>\n",
       "      <td>2</td>\n",
       "      <td>2</td>\n",
       "      <td>22.0</td>\n",
       "      <td>46</td>\n",
       "      <td>48</td>\n",
       "    </tr>\n",
       "    <tr>\n",
       "      <th>123</th>\n",
       "      <td>351</td>\n",
       "      <td>352</td>\n",
       "      <td>2024-12-17 13:30:29</td>\n",
       "      <td>Nurse</td>\n",
       "      <td>10.0</td>\n",
       "      <td>Referral/Teaching Hospital</td>\n",
       "      <td>CHUK</td>\n",
       "      <td>position of the neck , suctioning if there is ...</td>\n",
       "      <td>is to use C technic</td>\n",
       "      <td>tachycardia, poor perfusion ( no pulses on pal...</td>\n",
       "      <td>...</td>\n",
       "      <td>2</td>\n",
       "      <td>2</td>\n",
       "      <td>2</td>\n",
       "      <td>2</td>\n",
       "      <td>1</td>\n",
       "      <td>1</td>\n",
       "      <td>1</td>\n",
       "      <td>17.0</td>\n",
       "      <td>40</td>\n",
       "      <td>46</td>\n",
       "    </tr>\n",
       "    <tr>\n",
       "      <th>124</th>\n",
       "      <td>353</td>\n",
       "      <td>354</td>\n",
       "      <td>2024-12-17 13:31:12</td>\n",
       "      <td>Resident doctor</td>\n",
       "      <td>3.0</td>\n",
       "      <td>Referral/Teaching Hospital</td>\n",
       "      <td>CHUK</td>\n",
       "      <td>assessment of airways patency, work of breathing</td>\n",
       "      <td>making C shaped mask application on the face, ...</td>\n",
       "      <td>altered mental stutus and tachycardia with red...</td>\n",
       "      <td>...</td>\n",
       "      <td>0</td>\n",
       "      <td>2</td>\n",
       "      <td>1</td>\n",
       "      <td>1</td>\n",
       "      <td>1</td>\n",
       "      <td>2</td>\n",
       "      <td>1</td>\n",
       "      <td>16.0</td>\n",
       "      <td>45</td>\n",
       "      <td>42</td>\n",
       "    </tr>\n",
       "    <tr>\n",
       "      <th>125</th>\n",
       "      <td>355</td>\n",
       "      <td>356</td>\n",
       "      <td>2024-12-18 12:55:52</td>\n",
       "      <td>Nurse</td>\n",
       "      <td>13.0</td>\n",
       "      <td>Referral/Teaching Hospital</td>\n",
       "      <td>CHUK</td>\n",
       "      <td>Assess airway patency , assess if nasal flarin...</td>\n",
       "      <td>EC Technique</td>\n",
       "      <td>cold extremities  low peripheral pulse</td>\n",
       "      <td>...</td>\n",
       "      <td>2</td>\n",
       "      <td>1</td>\n",
       "      <td>2</td>\n",
       "      <td>1</td>\n",
       "      <td>1</td>\n",
       "      <td>2</td>\n",
       "      <td>1</td>\n",
       "      <td>18.0</td>\n",
       "      <td>44</td>\n",
       "      <td>40</td>\n",
       "    </tr>\n",
       "  </tbody>\n",
       "</table>\n",
       "<p>126 rows × 54 columns</p>\n",
       "</div>"
      ],
      "text/plain": [
       "     Unnamed: 0  record_id     form_1_timestamp            cadre  \\\n",
       "0             0          1  2024-11-25 13:37:59               MD   \n",
       "1             1          2  2024-11-25 14:51:58            Nurse   \n",
       "2             2          3  2024-11-25 15:20:17            Nurse   \n",
       "3             3          4  2024-11-25 15:28:56            Nurse   \n",
       "4             4          5  2024-11-25 15:11:35            Nurse   \n",
       "..          ...        ...                  ...              ...   \n",
       "121         340        341  2024-12-13 13:40:30            Nurse   \n",
       "122         345        346  2024-12-16 14:02:50            Nurse   \n",
       "123         351        352  2024-12-17 13:30:29            Nurse   \n",
       "124         353        354  2024-12-17 13:31:12  Resident doctor   \n",
       "125         355        356  2024-12-18 12:55:52            Nurse   \n",
       "\n",
       "     years_of_service_in_this_r              hospital_level Hospital name  \\\n",
       "0                           0.0           District Hospital     Masaka DH   \n",
       "1                           6.0           District Hospital     Masaka DH   \n",
       "2                          20.0   Level 2 Teaching Hospital    Nyamata DH   \n",
       "3                          15.0   Level 2 Teaching Hospital    Nyamata DH   \n",
       "4                          16.0   Level 2 Teaching Hospital    Nyamata DH   \n",
       "..                          ...                         ...           ...   \n",
       "121                        16.0  Referral/Teaching Hospital          CHUK   \n",
       "122                        14.0  Referral/Teaching Hospital          CHUK   \n",
       "123                        10.0  Referral/Teaching Hospital          CHUK   \n",
       "124                         3.0  Referral/Teaching Hospital          CHUK   \n",
       "125                        13.0  Referral/Teaching Hospital          CHUK   \n",
       "\n",
       "                                     airway_management  \\\n",
       "0                       Make sure the airway is patent   \n",
       "1    We keep air way clean by putting baby in neutr...   \n",
       "2    degager les voies respiratoires   mettre l'enf...   \n",
       "3    you can assess if the baby has obstruction in ...   \n",
       "4                                   taking vital signs   \n",
       "..                                                 ...   \n",
       "121                     If airways are not  obstructed   \n",
       "122             Positioning patient   Clearing airway    \n",
       "123  position of the neck , suctioning if there is ...   \n",
       "124  assessment of airways patency, work of breathing    \n",
       "125  Assess airway patency , assess if nasal flarin...   \n",
       "\n",
       "                             breathing_and_ventilation  \\\n",
       "0                                 Head tilt /chin lift   \n",
       "1    Neutral position,  Taking a valve mask like mo...   \n",
       "2                                              asepsie   \n",
       "3    keep the baby in good position (en hyperextens...   \n",
       "4    mouth open, baby in neutral position , mask co...   \n",
       "..                                                 ...   \n",
       "121                               Cover nose and mouth   \n",
       "122  Performing bag valve mask  Positioning a patie...   \n",
       "123                               is to use C technic    \n",
       "124  making C shaped mask application on the face, ...   \n",
       "125                                       EC Technique   \n",
       "\n",
       "                                 circulation_and_shock  ...  \\\n",
       "0    Cool and clammy skin, bluish is discoloration ...  ...   \n",
       "1       General cyanosis, severe respiratory distress   ...   \n",
       "2    convulsions; Difficulté respiratoire  léthargi...  ...   \n",
       "3    dehydration, extremitie froid, tachypnea, hypo...  ...   \n",
       "4     cold skin,  respiratory destress, bradycardia     ...   \n",
       "..                                                 ...  ...   \n",
       "121  palor,dehydration   Action:You give transfusio...  ...   \n",
       "122  Poor perfusion (cold extremities,mottled,skin ...  ...   \n",
       "123  tachycardia, poor perfusion ( no pulses on pal...  ...   \n",
       "124  altered mental stutus and tachycardia with red...  ...   \n",
       "125             cold extremities  low peripheral pulse  ...   \n",
       "\n",
       "    sepsis_recognitio_score sepsis_recognitio_score_2 hypoglycemia_score  \\\n",
       "0                         2                         2                  0   \n",
       "1                         1                         1                  2   \n",
       "2                         1                         0                  1   \n",
       "3                         1                         0                  1   \n",
       "4                         1                         1                  1   \n",
       "..                      ...                       ...                ...   \n",
       "121                       1                         2                  2   \n",
       "122                       2                         2                  2   \n",
       "123                       2                         2                  2   \n",
       "124                       0                         2                  1   \n",
       "125                       2                         1                  2   \n",
       "\n",
       "    seizur_management_score fluid_resuscitatin_score thermoregulatin_score  \\\n",
       "0                         0                        1                     2   \n",
       "1                         0                        0                     2   \n",
       "2                         1                        0                     0   \n",
       "3                         0                        0                     0   \n",
       "4                         1                        0                     1   \n",
       "..                      ...                      ...                   ...   \n",
       "121                       0                        0                     2   \n",
       "122                       2                        2                     2   \n",
       "123                       2                        1                     1   \n",
       "124                       1                        1                     2   \n",
       "125                       1                        1                     2   \n",
       "\n",
       "    medication_dosin_score Total Knowledge score Total Attitude score  \\\n",
       "0                        0                  13.5                   49   \n",
       "1                        0                  10.0                   50   \n",
       "2                        0                   6.0                   34   \n",
       "3                        0                   8.0                   43   \n",
       "4                        0                   8.0                   47   \n",
       "..                     ...                   ...                  ...   \n",
       "121                      1                  13.0                   45   \n",
       "122                      2                  22.0                   46   \n",
       "123                      1                  17.0                   40   \n",
       "124                      1                  16.0                   45   \n",
       "125                      1                  18.0                   44   \n",
       "\n",
       "     Total Practice score  \n",
       "0                      40  \n",
       "1                      50  \n",
       "2                      46  \n",
       "3                      47  \n",
       "4                      46  \n",
       "..                    ...  \n",
       "121                    28  \n",
       "122                    48  \n",
       "123                    46  \n",
       "124                    42  \n",
       "125                    40  \n",
       "\n",
       "[126 rows x 54 columns]"
      ]
     },
     "execution_count": 54,
     "metadata": {},
     "output_type": "execute_result"
    }
   ],
   "source": [
    "data"
   ]
  },
  {
   "cell_type": "markdown",
   "metadata": {},
   "source": [
    "#### Knowledge"
   ]
  },
  {
   "cell_type": "code",
   "execution_count": 55,
   "metadata": {},
   "outputs": [
    {
     "name": "stdout",
     "output_type": "stream",
     "text": [
      "\n",
      "=== Analysis of Total Knowledge score by cadre ===\n",
      "\n",
      "Normality Test (Shapiro-Wilk) Results per Group:\n",
      "Group MD: p-value = 0.4897 (Normal)\n",
      "Group Nurse: p-value = 0.0699 (Normal)\n",
      "Group Nurse-midwife: p-value = 0.3960 (Normal)\n",
      "Group Nurse in charge: p-value = 0.0747 (Normal)\n",
      "Group Resident doctor: Not enough data for test\n",
      "\n",
      "Levene’s Test for Homogeneity of Variances: p-value = 0.0047\n",
      "Variances are not equal (consider a non-parametric alternative like Kruskal-Wallis).\n",
      "\n",
      "One-way ANOVA Results: p-value = 0.1751\n",
      "Conclusion: Fail to reject H0. No significant difference among groups.\n",
      "\n",
      "Kruskal-Wallis Test Results: p-value = 0.1609\n",
      "Conclusion: Fail to reject H0. No significant difference in median scores among groups.\n"
     ]
    }
   ],
   "source": [
    "data_ass = data[['Hospital name','hospital_level','cadre','years_of_service_in_this_r', 'Total Knowledge score', 'Total Attitude score', 'Total Practice score']]\n",
    "compare_groups(data_ass, 'cadre','Total Knowledge score')"
   ]
  },
  {
   "cell_type": "markdown",
   "metadata": {},
   "source": [
    "#### Attitude"
   ]
  },
  {
   "cell_type": "code",
   "execution_count": 56,
   "metadata": {},
   "outputs": [
    {
     "name": "stdout",
     "output_type": "stream",
     "text": [
      "\n",
      "=== Analysis of Total Attitude score by cadre ===\n",
      "\n",
      "Normality Test (Shapiro-Wilk) Results per Group:\n",
      "Group MD: p-value = 0.8400 (Normal)\n",
      "Group Nurse: p-value = 0.0000 (Not Normal)\n",
      "Group Nurse-midwife: p-value = 0.3100 (Normal)\n",
      "Group Nurse in charge: p-value = 0.0002 (Not Normal)\n",
      "Group Resident doctor: Not enough data for test\n",
      "\n",
      "Levene’s Test for Homogeneity of Variances: p-value = 0.1576\n",
      "Variances are equal (assumption met).\n",
      "\n",
      "One-way ANOVA Results: p-value = 0.5184\n",
      "Conclusion: Fail to reject H0. No significant difference among groups.\n",
      "\n",
      "Kruskal-Wallis Test Results: p-value = 0.2392\n",
      "Conclusion: Fail to reject H0. No significant difference in median scores among groups.\n"
     ]
    }
   ],
   "source": [
    "compare_groups(data_ass, 'cadre','Total Attitude score')"
   ]
  },
  {
   "cell_type": "markdown",
   "metadata": {},
   "source": [
    "#### Practice"
   ]
  },
  {
   "cell_type": "code",
   "execution_count": 57,
   "metadata": {},
   "outputs": [
    {
     "name": "stdout",
     "output_type": "stream",
     "text": [
      "\n",
      "=== Analysis of Total Practice score by cadre ===\n",
      "\n",
      "Normality Test (Shapiro-Wilk) Results per Group:\n",
      "Group MD: p-value = 0.3607 (Normal)\n",
      "Group Nurse: p-value = 0.0000 (Not Normal)\n",
      "Group Nurse-midwife: p-value = 0.0717 (Normal)\n",
      "Group Nurse in charge: p-value = 0.1055 (Normal)\n",
      "Group Resident doctor: Not enough data for test\n",
      "\n",
      "Levene’s Test for Homogeneity of Variances: p-value = 0.3946\n",
      "Variances are equal (assumption met).\n",
      "\n",
      "One-way ANOVA Results: p-value = 0.2803\n",
      "Conclusion: Fail to reject H0. No significant difference among groups.\n",
      "\n",
      "Kruskal-Wallis Test Results: p-value = 0.2842\n",
      "Conclusion: Fail to reject H0. No significant difference in median scores among groups.\n"
     ]
    }
   ],
   "source": [
    "compare_groups(data_ass, 'cadre','Total Practice score')"
   ]
  },
  {
   "cell_type": "markdown",
   "metadata": {},
   "source": [
    "### Association of KAP Outcome Vs Hospital level"
   ]
  },
  {
   "cell_type": "code",
   "execution_count": 58,
   "metadata": {},
   "outputs": [
    {
     "name": "stdout",
     "output_type": "stream",
     "text": [
      "\n",
      "=== Analysis of Total Knowledge score by hospital_level ===\n",
      "\n",
      "Normality Test (Shapiro-Wilk) Results per Group:\n",
      "Group District Hospital: p-value = 0.1711 (Normal)\n",
      "Group Level 2 Teaching Hospital: p-value = 0.8375 (Normal)\n",
      "Group Referral/Teaching Hospital: p-value = 0.0825 (Normal)\n",
      "\n",
      "Levene’s Test for Homogeneity of Variances: p-value = 0.0214\n",
      "Variances are not equal (consider a non-parametric alternative like Kruskal-Wallis).\n",
      "\n",
      "One-way ANOVA Results: p-value = 0.0000\n",
      "Conclusion: Reject H0. At least one group has a different mean score.\n",
      "\n",
      "Kruskal-Wallis Test Results: p-value = 0.0000\n",
      "Conclusion: Reject H0. At least one group has a different median score.\n"
     ]
    }
   ],
   "source": [
    "compare_groups(data_ass, 'hospital_level','Total Knowledge score')"
   ]
  },
  {
   "cell_type": "code",
   "execution_count": 59,
   "metadata": {},
   "outputs": [
    {
     "name": "stdout",
     "output_type": "stream",
     "text": [
      "\n",
      "=== Analysis of Total Attitude score by hospital_level ===\n",
      "\n",
      "Normality Test (Shapiro-Wilk) Results per Group:\n",
      "Group District Hospital: p-value = 0.0000 (Not Normal)\n",
      "Group Level 2 Teaching Hospital: p-value = 0.0000 (Not Normal)\n",
      "Group Referral/Teaching Hospital: p-value = 0.0000 (Not Normal)\n",
      "\n",
      "Levene’s Test for Homogeneity of Variances: p-value = 0.1365\n",
      "Variances are equal (assumption met).\n",
      "\n",
      "One-way ANOVA Results: p-value = 0.0931\n",
      "Conclusion: Fail to reject H0. No significant difference among groups.\n",
      "\n",
      "Kruskal-Wallis Test Results: p-value = 0.0399\n",
      "Conclusion: Reject H0. At least one group has a different median score.\n"
     ]
    }
   ],
   "source": [
    "compare_groups(data_ass, 'hospital_level','Total Attitude score')"
   ]
  },
  {
   "cell_type": "code",
   "execution_count": 60,
   "metadata": {},
   "outputs": [
    {
     "name": "stdout",
     "output_type": "stream",
     "text": [
      "\n",
      "=== Analysis of Total Practice score by hospital_level ===\n",
      "\n",
      "Normality Test (Shapiro-Wilk) Results per Group:\n",
      "Group District Hospital: p-value = 0.0000 (Not Normal)\n",
      "Group Level 2 Teaching Hospital: p-value = 0.0113 (Not Normal)\n",
      "Group Referral/Teaching Hospital: p-value = 0.0000 (Not Normal)\n",
      "\n",
      "Levene’s Test for Homogeneity of Variances: p-value = 0.8867\n",
      "Variances are equal (assumption met).\n",
      "\n",
      "One-way ANOVA Results: p-value = 0.7201\n",
      "Conclusion: Fail to reject H0. No significant difference among groups.\n",
      "\n",
      "Kruskal-Wallis Test Results: p-value = 0.6253\n",
      "Conclusion: Fail to reject H0. No significant difference in median scores among groups.\n"
     ]
    }
   ],
   "source": [
    "compare_groups(data_ass, 'hospital_level','Total Practice score')"
   ]
  },
  {
   "cell_type": "markdown",
   "metadata": {},
   "source": [
    "### Association of KAP Outcome Vs Years of experience"
   ]
  },
  {
   "cell_type": "markdown",
   "metadata": {},
   "source": [
    "#### 1. Knowledge"
   ]
  },
  {
   "cell_type": "code",
   "execution_count": 61,
   "metadata": {},
   "outputs": [
    {
     "name": "stdout",
     "output_type": "stream",
     "text": [
      "\n",
      "Spearman Correlation Test: years_of_service_in_this_r vs Total Knowledge score\n",
      "Spearman Correlation Coefficient: -0.0022\n",
      "p-value: 0.9807\n",
      "Conclusion: No significant correlation.\n"
     ]
    }
   ],
   "source": [
    "spearman_correlation(data_ass, \"years_of_service_in_this_r\", \"Total Knowledge score\")"
   ]
  },
  {
   "cell_type": "markdown",
   "metadata": {},
   "source": [
    "#### 2. Attitude"
   ]
  },
  {
   "cell_type": "code",
   "execution_count": 62,
   "metadata": {},
   "outputs": [
    {
     "name": "stdout",
     "output_type": "stream",
     "text": [
      "\n",
      "Spearman Correlation Test: years_of_service_in_this_r vs Total Attitude score\n",
      "Spearman Correlation Coefficient: -0.0875\n",
      "p-value: 0.3297\n",
      "Conclusion: No significant correlation.\n"
     ]
    }
   ],
   "source": [
    "spearman_correlation(data_ass, \"years_of_service_in_this_r\", \"Total Attitude score\")"
   ]
  },
  {
   "cell_type": "markdown",
   "metadata": {},
   "source": [
    "#### 3. Practice"
   ]
  },
  {
   "cell_type": "code",
   "execution_count": 63,
   "metadata": {},
   "outputs": [
    {
     "name": "stdout",
     "output_type": "stream",
     "text": [
      "\n",
      "Spearman Correlation Test: years_of_service_in_this_r vs Total Practice score\n",
      "Spearman Correlation Coefficient: 0.0280\n",
      "p-value: 0.7555\n",
      "Conclusion: No significant correlation.\n"
     ]
    }
   ],
   "source": [
    "spearman_correlation(data_ass, \"years_of_service_in_this_r\", \"Total Practice score\")"
   ]
  },
  {
   "cell_type": "code",
   "execution_count": 64,
   "metadata": {},
   "outputs": [
    {
     "data": {
      "text/plain": [
       "Index(['Hospital name', 'hospital_level', 'cadre',\n",
       "       'years_of_service_in_this_r', 'Total Knowledge score',\n",
       "       'Total Attitude score', 'Total Practice score'],\n",
       "      dtype='object')"
      ]
     },
     "execution_count": 64,
     "metadata": {},
     "output_type": "execute_result"
    }
   ],
   "source": [
    "data_ass.columns"
   ]
  },
  {
   "cell_type": "code",
   "execution_count": 65,
   "metadata": {},
   "outputs": [
    {
     "name": "stdout",
     "output_type": "stream",
     "text": [
      "Summary statistics exported to summary.xlsx\n",
      "+----------------------------+-----------------------+-------+--------+---------+------+----------------+----------------+----------------+\n",
      "|           Group            |      Score Column     |  Mean | Median | Std Dev | IQR  |     25% CI     |     50% CI     |     95% CI     |\n",
      "+----------------------------+-----------------------+-------+--------+---------+------+----------------+----------------+----------------+\n",
      "|     District Hospital      | Total Knowledge score | 12.59 |  12.5  |   4.44  | 5.0  | (11.94, 13.24) | (12.21, 12.97) | (11.48, 13.69) |\n",
      "|     District Hospital      |  Total Attitude score | 42.92 |  45.0  |   6.6   | 7.0  | (41.96, 43.88) | (42.35, 43.48) | (41.28, 44.56) |\n",
      "|     District Hospital      |  Total Practice score | 40.58 |  42.0  |   8.09  | 7.75 | (39.4, 41.76)  | (39.89, 41.27) | (38.57, 42.59) |\n",
      "| Level 2 Teaching Hospital  | Total Knowledge score | 11.38 |  12.0  |   3.19  | 5.0  | (10.77, 11.98) | (11.02, 11.73) | (10.35, 12.41) |\n",
      "| Level 2 Teaching Hospital  |  Total Attitude score | 38.89 |  42.0  |  10.18  | 7.0  | (36.97, 40.82) | (37.76, 40.02) | (35.61, 42.17) |\n",
      "| Level 2 Teaching Hospital  |  Total Practice score | 41.22 |  43.0  |   6.49  | 7.0  | (39.99, 42.44) | (40.5, 41.94)  | (39.13, 43.31) |\n",
      "| Referral/Teaching Hospital | Total Knowledge score | 18.11 |  18.0  |   3.27  | 3.0  | (17.39, 18.84) | (17.69, 18.54) | (16.88, 19.35) |\n",
      "| Referral/Teaching Hospital |  Total Attitude score | 41.81 |  46.0  |  11.18  | 9.0  | (39.34, 44.29) | (40.36, 43.27) | (37.6, 46.03)  |\n",
      "| Referral/Teaching Hospital |  Total Practice score |  42.0 |  42.0  |   8.26  | 8.0  | (40.17, 43.83) | (40.93, 43.07) | (38.88, 45.12) |\n",
      "+----------------------------+-----------------------+-------+--------+---------+------+----------------+----------------+----------------+\n"
     ]
    },
    {
     "name": "stderr",
     "output_type": "stream",
     "text": [
      "C:\\Users\\ishim\\AppData\\Local\\Temp\\ipykernel_27824\\870449628.py:70: UserWarning: Pandas requires version '3.0.5' or newer of 'xlsxwriter' (version '3.0.3' currently installed).\n",
      "  summary_df.to_excel(output_file, index=False)\n"
     ]
    }
   ],
   "source": [
    "import pandas as pd\n",
    "import numpy as np\n",
    "from scipy.stats import norm\n",
    "from prettytable import PrettyTable\n",
    "\n",
    "def summarize_scores(df, group_col, score_cols, output_file=\"summary.xlsx\"):\n",
    "    \"\"\"\n",
    "    Summarizes scores by computing mean, median, standard deviation, IQR, and confidence intervals (25%, 50%, 95%)\n",
    "    for each group in the specified column. Outputs results as an Excel file.\n",
    "\n",
    "    Parameters:\n",
    "        df (pd.DataFrame): The input DataFrame.\n",
    "        group_col (str): The column name used to group data.\n",
    "        score_cols (list): List of column names containing scores.\n",
    "        output_file (str): The name of the Excel file to save the results.\n",
    "\n",
    "    Returns:\n",
    "        PrettyTable: A table with statistical summaries (also saves an Excel file).\n",
    "    \"\"\"\n",
    "    # Grouping the data by the specified column\n",
    "    grouped = df.groupby(group_col)[score_cols]\n",
    "\n",
    "    # Creating a PrettyTable instance\n",
    "    table = PrettyTable()\n",
    "    table.field_names = [\n",
    "        \"Group\", \"Score Column\", \"Mean\", \"Median\", \"Std Dev\", \"IQR\", \n",
    "        \"25% CI\", \"50% CI\", \"95% CI\"\n",
    "    ]\n",
    "\n",
    "    # Data storage for Excel export\n",
    "    summary_data = []\n",
    "\n",
    "    # Looping through each group and score column to compute statistics\n",
    "    for group, data in grouped:\n",
    "        for col in score_cols:\n",
    "            mean_val = data[col].mean()\n",
    "            median_val = data[col].median()\n",
    "            std_val = data[col].std()\n",
    "            iqr_val = data[col].quantile(0.75) - data[col].quantile(0.25)  # IQR = Q3 - Q1\n",
    "            \n",
    "            # Compute Confidence Intervals\n",
    "            n = len(data[col].dropna())  # Exclude NaNs\n",
    "            se = std_val / np.sqrt(n) if n > 0 else 0  # Standard Error\n",
    "            \n",
    "            ci_25 = (mean_val - norm.ppf(0.875) * se, mean_val + norm.ppf(0.875) * se)\n",
    "            ci_50 = (mean_val - norm.ppf(0.75) * se, mean_val + norm.ppf(0.75) * se)\n",
    "            ci_95 = (mean_val - norm.ppf(0.975) * se, mean_val + norm.ppf(0.975) * se)\n",
    "\n",
    "            # Add row to the PrettyTable\n",
    "            table.add_row([\n",
    "                group, col, round(mean_val, 2), round(median_val, 2), round(std_val, 2), round(iqr_val, 2),\n",
    "                f\"({round(ci_25[0], 2)}, {round(ci_25[1], 2)})\",\n",
    "                f\"({round(ci_50[0], 2)}, {round(ci_50[1], 2)})\",\n",
    "                f\"({round(ci_95[0], 2)}, {round(ci_95[1], 2)})\"\n",
    "            ])\n",
    "\n",
    "            # Append row to summary_data for Excel export\n",
    "            summary_data.append([\n",
    "                group, col, mean_val, median_val, std_val, iqr_val, \n",
    "                ci_25[0], ci_25[1], ci_50[0], ci_50[1], ci_95[0], ci_95[1]\n",
    "            ])\n",
    "\n",
    "    # Convert summary_data to a DataFrame for Excel export\n",
    "    summary_df = pd.DataFrame(summary_data, columns=[\n",
    "        \"Group\", \"Score Column\", \"Mean\", \"Median\", \"Std Dev\", \"IQR\", \n",
    "        \"25% CI Lower\", \"25% CI Upper\", \"50% CI Lower\", \"50% CI Upper\", \"95% CI Lower\", \"95% CI Upper\"\n",
    "    ])\n",
    "\n",
    "    # Export to Excel\n",
    "    summary_df.to_excel(output_file, index=False)\n",
    "\n",
    "    print(f\"Summary statistics exported to {output_file}\")\n",
    "    \n",
    "    return table\n",
    "\n",
    "# Example usage:\n",
    "# df = pd.read_csv(\"your_data.csv\")  # Load your data\n",
    "print(summarize_scores(data, \"hospital_level\", [\"Total Knowledge score\", \"Total Attitude score\", \"Total Practice score\"], \"summary.xlsx\"))\n"
   ]
  },
  {
   "cell_type": "code",
   "execution_count": 66,
   "metadata": {},
   "outputs": [],
   "source": [
    "# mean_scores"
   ]
  },
  {
   "cell_type": "code",
   "execution_count": null,
   "metadata": {},
   "outputs": [],
   "source": []
  }
 ],
 "metadata": {
  "kernelspec": {
   "display_name": "base",
   "language": "python",
   "name": "python3"
  },
  "language_info": {
   "codemirror_mode": {
    "name": "ipython",
    "version": 3
   },
   "file_extension": ".py",
   "mimetype": "text/x-python",
   "name": "python",
   "nbconvert_exporter": "python",
   "pygments_lexer": "ipython3",
   "version": "3.9.12"
  }
 },
 "nbformat": 4,
 "nbformat_minor": 2
}
